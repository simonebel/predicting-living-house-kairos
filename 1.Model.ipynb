{
 "cells": [
  {
   "cell_type": "markdown",
   "id": "fac195ff-2997-4b99-976f-69a7d2ac314f",
   "metadata": {},
   "source": [
    "# 0 - Import"
   ]
  },
  {
   "cell_type": "code",
   "execution_count": null,
   "id": "245d0b20-5c47-4539-a0f3-5d1f1824f3d0",
   "metadata": {},
   "outputs": [],
   "source": [
    "# Basic\n",
    "import pickle as pkl\n",
    "\n",
    "# Data\n",
    "import pandas as pd\n",
    "import numpy as np\n",
    "\n",
    "# Sklearn \n",
    "from sklearn.cluster import DBSCAN\n",
    "from sklearn.metrics.pairwise import haversine_distances\n",
    "from sklearn.neighbors import NearestNeighbors\n",
    "\n",
    "# Plot\n",
    "import plotly.express as px\n",
    "import plotly.graph_objects as go\n",
    "from plotly.subplots import make_subplots\n",
    "from location_prediction.data_visualisation import chart_plot, chart_subplot, map_view_prediction, single_map_view, visualize_filtering\n",
    "\n",
    "# Model\n",
    "from location_prediction.model import filtering_df, compute_distance_from_point, compute_k_avg_distance, get_living_location, get_adress_from_coordinates\n",
    "\n",
    "# Prevent plotly to lag on scroll when there is a lot of graph displayed\n",
    "import plotly.io as pio\n",
    "pio.renderers.default = 'iframe'"
   ]
  },
  {
   "cell_type": "markdown",
   "id": "f8178716-0906-4836-a8fe-4a0fabb95d15",
   "metadata": {},
   "source": [
    "# 1 - Feature Selection"
   ]
  },
  {
   "cell_type": "markdown",
   "id": "05db2339-4dfc-4256-bda3-3020eec23880",
   "metadata": {},
   "source": [
    "## 1.1 - Mean Walking Speed Estimation"
   ]
  },
  {
   "cell_type": "code",
   "execution_count": null,
   "id": "bf04d58c-658c-403a-877f-a51e02785788",
   "metadata": {},
   "outputs": [],
   "source": [
    "# The speed is between 4 and 5 km/h\n",
    "\n",
    "# Calculate the mean of the interval\n",
    "mean = ((4 * 1e3)  / (60*60) + (5 *1e3) / (60*60)) / 2\n",
    "\n",
    "print('We\\'ll define the mean walking speed as {}'.format(mean))"
   ]
  },
  {
   "cell_type": "markdown",
   "id": "a35eb862-0fd2-4d2f-b370-1589ae420bce",
   "metadata": {},
   "source": [
    "## 1.2 - GPS Measure Uncertainty Estimation"
   ]
  },
  {
   "cell_type": "markdown",
   "id": "a0962ba2-c91d-40e0-80f2-51f3ed65350b",
   "metadata": {},
   "source": [
    "### 1.2.1 - Found a dense area"
   ]
  },
  {
   "cell_type": "code",
   "execution_count": null,
   "id": "2513c7e8-eec5-48e5-8069-7f6f065e391c",
   "metadata": {},
   "outputs": [],
   "source": [
    "# Read our data\n",
    "gps_df = pkl.load(open('./data/gps_df.pkl', 'rb'))"
   ]
  },
  {
   "cell_type": "code",
   "execution_count": null,
   "id": "078ce4b0-64be-4c1c-89a6-764dc83ad514",
   "metadata": {},
   "outputs": [],
   "source": [
    "# Using the map view, we see that for the user 5e8f9 there is a dense area of measure corresponding to a specific location. \n",
    "# We will use the measure in this location to estimate the incertainty of the measures.\n",
    "\n",
    "# We take the measure of the user 5e8f9\n",
    "relevant_user = gps_df.copy()[gps_df.user_id == '5e8f9b28f3b9a5516fe24bc39f74837617d6026abf8cb4de6c6989923860f4a2']\n",
    "\n",
    "# Argument for plotting\n",
    "plot_args = dict(\n",
    "    title = 'Map view of a dense area for user 5e8f9',\n",
    "    title_x = 0.5,\n",
    "    width=1400,\n",
    "    height=700, \n",
    "    mapbox=dict(\n",
    "        style = \"open-street-map\",\n",
    "        center=go.layout.mapbox.Center(\n",
    "            lat=48.98961,\n",
    "            lon=2.231469\n",
    "        ),\n",
    "        zoom=18\n",
    "    )\n",
    ")\n",
    "\n",
    "# We display the target location on a map view\n",
    "single_map_view(relevant_user, plot_args, img_name='incertainty_estimation.png')"
   ]
  },
  {
   "cell_type": "markdown",
   "id": "029f811e-7523-4ea7-86ea-2db671dadc3f",
   "metadata": {},
   "source": [
    "### 1.2.2 - Cluster the dense area"
   ]
  },
  {
   "cell_type": "code",
   "execution_count": null,
   "id": "0478b994-d038-49b4-bb6b-05a6f11b7b88",
   "metadata": {},
   "outputs": [],
   "source": [
    "# We will cluster the GPS coordinate of this user to group this location in a cluster a get all measure of this location. \n",
    "\n",
    "# We get the GPS coordinate of the user 5e8f9\n",
    "data = relevant_user[[\"lon\", \"lat\"]].to_numpy()\n",
    "data = np.radians(data)\n",
    "\n",
    "# We cluster the gps coordinates to isolate the dense area\n",
    "dbscan_kwargs = {'eps':5e-7, 'min_samples':5, 'metric':'haversine', 'metric_params':None, 'algorithm':'auto', 'leaf_size':30, 'p':None, 'n_jobs':-1}\n",
    "model = DBSCAN(**dbscan_kwargs)\n",
    "model.fit(data)\n",
    "relevant_user.loc[:,\"label\"] = model.labels_\n",
    "\n",
    "# We visualize the result of our clustering\n",
    "plot_args = {\n",
    "            'title': 'DBSCAN Clustering of the GPS Coordinates for user 5e8f9',\n",
    "            'title_x': 0.5,\n",
    "            'width': 1400,\n",
    "            'height': 700\n",
    "        }\n",
    "\n",
    "chart_plot(\n",
    "    graph = px.scatter, \n",
    "    dataframe = relevant_user, \n",
    "    x = relevant_user.lon, \n",
    "    y = relevant_user.lat, \n",
    "    plot_args = plot_args, \n",
    "    color=relevant_user.label, \n",
    "    ranges=([2.226, 2.236], [48.985, 48.995]), \n",
    "    img_name=None\n",
    ")"
   ]
  },
  {
   "cell_type": "markdown",
   "id": "96e0475d-4dc2-44e8-a975-8a7bffecaa4a",
   "metadata": {},
   "source": [
    "<font size=\"3\">\n",
    "    <b>Note </b> : We see that we finally succeeded to isolate the dense are using DBSCAN\n",
    "</font>"
   ]
  },
  {
   "cell_type": "markdown",
   "id": "3649566e-beed-4309-bd21-8c36a1230cb6",
   "metadata": {},
   "source": [
    "### 1.2.3 - Estimate the uncertainty"
   ]
  },
  {
   "cell_type": "code",
   "execution_count": null,
   "id": "21b62010-e0bb-4077-a570-62e3f676f3a1",
   "metadata": {},
   "outputs": [],
   "source": [
    "# Once we have all the points of the location we can estimate the incertainty as the means of the distance from the center of the cluster\n",
    "\n",
    "# We get all the point we have successfully clustered, as the label change with runtime we have save a point of the location\n",
    "label = relevant_user[(relevant_user.lat == 48.98954170975) & (relevant_user.lon == 2.2313633158346)].label.to_list()[0]\n",
    "interesting_cluster = relevant_user.copy()[relevant_user.label == label]\n",
    "\n",
    "# We take the center of the cluster\n",
    "cluster_center = interesting_cluster.lon.mean(), interesting_cluster.lat.mean()\n",
    "cluster_coord = interesting_cluster[['lon', 'lat']].to_numpy()\n",
    "\n",
    "# We append the coordinates of the center to the data to visualize it\n",
    "x = interesting_cluster.lon.to_list() + [cluster_center[0]]\n",
    "y = interesting_cluster.lat.to_list() + [cluster_center[1]]\n",
    "\n",
    "color = ['blue' for k in range(len(interesting_cluster))]\n",
    "color.append('red')\n",
    "\n",
    "# We plot the cluster and it center\n",
    "chart_plot(\n",
    "    graph = px.scatter, \n",
    "    dataframe = interesting_cluster, \n",
    "    x = x , \n",
    "    y = y , \n",
    "    plot_args = plot_args, \n",
    "    color=color, \n",
    "    ranges=([2.2312, 2.2318], [48.9899, 48.9894]), \n",
    "    img_name=None\n",
    ")\n",
    "\n",
    "# We can finally compute the mean of the distance between the point in the cluster and the center of the cluster \n",
    "distance_from_center = compute_distance_from_point([cluster_center], cluster_coord)\n",
    "print('We can estimate incertitude as : {} km'.format(distance_from_center.mean()))"
   ]
  },
  {
   "cell_type": "markdown",
   "id": "6ccf7928-495a-4c81-b651-4f380fc4fbb4",
   "metadata": {},
   "source": [
    "<font size=\"3\">\n",
    "    <b>Note </b> : We estimate the incertitude to around 10 m \n",
    "</font>"
   ]
  },
  {
   "cell_type": "markdown",
   "id": "72d78b5b-88a4-440b-afd9-0a1e053ea669",
   "metadata": {},
   "source": [
    "# 2 - Visualizing Filtering"
   ]
  },
  {
   "cell_type": "code",
   "execution_count": null,
   "id": "5938625d-895c-48e5-95d6-2899fa8dea4b",
   "metadata": {},
   "outputs": [],
   "source": [
    "# Read our data \n",
    "gps_df = pkl.load(open('./data/gps_df.pkl', 'rb'))"
   ]
  },
  {
   "cell_type": "code",
   "execution_count": null,
   "id": "c618780a-7774-4773-8e8c-451f288a14a4",
   "metadata": {
    "tags": []
   },
   "outputs": [],
   "source": [
    "# To visualize the effect of the filtering we will display for somme user the gps coordinate before and after the filtering \n",
    "filtered_df = filtering_df(gps_df, 1.25, 0.15)\n",
    "\n",
    "pkl.dump(filtered_df, open('./data/filtered_gps_df.pkl', 'wb'))\n",
    "\n",
    "# Arguments for plot\n",
    "plot_args = {\n",
    "    'width' : 1400,\n",
    "    'height' : 700,\n",
    "    'title' : 'Visualizing GPS coordiantes before (left) and after (right) filtering',\n",
    "    'title_x' : 0.5\n",
    "}\n",
    "\n",
    "# Visualize the filtering\n",
    "visualize_filtering(\n",
    "    dataframe = gps_df, \n",
    "    filtered_dataframe = filtered_df, \n",
    "    plot_args = plot_args, \n",
    "    n_users= 2, \n",
    "    img_name = 'viz_filtering.png')"
   ]
  },
  {
   "cell_type": "markdown",
   "id": "2566de02-5a7a-4f07-989b-490416466027",
   "metadata": {},
   "source": [
    "# 3 - Prediction"
   ]
  },
  {
   "cell_type": "markdown",
   "id": "23c530bf-b0c3-49c3-9c3f-df6577a7b234",
   "metadata": {},
   "source": [
    "## 3.1 - Elbow Curve"
   ]
  },
  {
   "cell_type": "code",
   "execution_count": null,
   "id": "9868eee5-4652-49c6-b645-e1ff245b3d95",
   "metadata": {},
   "outputs": [],
   "source": [
    "# Read our filtered dataset\n",
    "filtered_gps_df = pkl.load(open('./data/filtered_gps_df.pkl', 'rb'))\n",
    "\n",
    "# Compute the k-th distances\n",
    "distances = compute_k_avg_distance(\n",
    "    dataframe = filtered_gps_df, \n",
    "    n_neighbors = 3\n",
    ")\n",
    "\n",
    "# Plotting Arguments \n",
    "plot_args = {\n",
    "            'title': 'K-distance Elbow Curve',\n",
    "            'title_x': 0.5,\n",
    "            'width': 1400,\n",
    "            'height': 700,\n",
    "            'xaxis_title' : 'Samples',\n",
    "            'yaxis_title' : 'Distance',\n",
    "        }\n",
    "\n",
    "# Plot the elbow curve\n",
    "chart_plot(\n",
    "    graph = px.line, \n",
    "    dataframe = distances, \n",
    "    x = [k for k in range(len(distances))] , \n",
    "    y = distances , \n",
    "    plot_args = plot_args, \n",
    "    ranges = ([11800,13200], [-0.02, 0.1]),\n",
    "    img_name='elbow.png'\n",
    ")"
   ]
  },
  {
   "cell_type": "markdown",
   "id": "4f4ffbb3-f61c-452c-ac59-91455cdca390",
   "metadata": {},
   "source": [
    "## 3.2 - Get the prediction"
   ]
  },
  {
   "cell_type": "code",
   "execution_count": null,
   "id": "dc93cdf6-9b14-4ff3-9456-2db86c64e86f",
   "metadata": {},
   "outputs": [],
   "source": [
    "# Read our datasets \n",
    "gps_df = pkl.load(open('./data/gps_df.pkl', 'rb'))\n",
    "filtered_gps_df = pkl.load(open('./data/filtered_gps_df.pkl', 'rb'))\n",
    "\n",
    "# Setting-up argument for DBSCAN\n",
    "dbscan_kwargs = {'eps':5e-5, 'min_samples':3, 'metric':'haversine', 'metric_params':None, 'algorithm':'auto', 'leaf_size':30, 'p':None, 'n_jobs':-1}\n",
    "\n",
    "# Plotting Arguments\n",
    "plot_args = {\n",
    "            'title': 'DBSCAN Clustering of the GPS Coordinates',\n",
    "            'title_x': 0.5,\n",
    "            'width': 1400,\n",
    "            'height': 700\n",
    "        }\n",
    "\n",
    "# Apply DBSCAN, we get the center of a cluster by computing the mean \n",
    "clustered_gps_df_mean, prediction_mean = get_living_location(filtered_gps_df, dbscan_kwargs, 'mean')\n",
    "pkl.dump(clustered_gps_df_mean, open('./data/clustered_gps_df_mean.pkl', 'wb'))\n",
    "pkl.dump(prediction_mean, open('./data/prediction_mean.pkl', 'wb'))\n",
    "\n",
    "\n",
    "# Apply DBSCAN, we get the center of a cluster by getting the points with most nearest neighbors\n",
    "clustered_gps_df_dist, prediction_dist = get_living_location(filtered_gps_df, dbscan_kwargs, 'dist')\n",
    "pkl.dump(clustered_gps_df_dist, open('./data/clustered_gps_df_dist.pkl', 'wb'))\n",
    "pkl.dump(prediction_dist, open('./data/prediction_dist.pkl', 'wb'))"
   ]
  },
  {
   "cell_type": "markdown",
   "id": "fb5ae662-654f-473b-827b-6e21fcafcf9f",
   "metadata": {},
   "source": [
    "# 4 - Visualize DBSCAN clustering against ground-truth"
   ]
  },
  {
   "cell_type": "code",
   "execution_count": null,
   "id": "65db08c7-e2dc-4f1c-b720-26048c489168",
   "metadata": {
    "tags": []
   },
   "outputs": [],
   "source": [
    "# Read our clustered dataset \n",
    "clustered_gps_df_dist = pkl.load(open('./data/clustered_gps_df_dist.pkl', 'rb'))\n",
    "\n",
    "# Arguments for plotting DBSCAN result\n",
    "plot_args = {\n",
    "    'title': 'DBSCAN Clustering of the GPS Coordinates',\n",
    "    'title_x': 0.5,\n",
    "    'width': 1400,\n",
    "    'height': 700,\n",
    "    'xaxis_title' : 'Longitude',\n",
    "    'yaxis_title' : 'Latitude'\n",
    "}\n",
    "\n",
    "# Plot the DBSCAN result\n",
    "chart_plot(\n",
    "    px.scatter, \n",
    "    clustered_gps_df_dist, \n",
    "    clustered_gps_df_dist.lat, \n",
    "    clustered_gps_df_dist.lon, \n",
    "    plot_args, \n",
    "    color=clustered_gps_df_dist.label, \n",
    "    ranges=([42, 52], [-5, 15]), \n",
    "    img_name='DBSCAN_cluster.png'\n",
    ")\n",
    "\n",
    "# Arguments for plotting ground-truth clusters\n",
    "plot_args = {\n",
    "    'title': 'User Clustering of the GPS Coordinates',\n",
    "    'title_x': 0.5,\n",
    "    'width': 1400,\n",
    "    'height': 700,\n",
    "    'xaxis_title' : 'Longitude',\n",
    "    'yaxis_title' : 'Latitude'\n",
    "}\n",
    "\n",
    "# PLot the ground-truth cluster\n",
    "chart_plot(\n",
    "    px.scatter, \n",
    "    clustered_gps_df_dist, \n",
    "    clustered_gps_df_dist.lat, \n",
    "    clustered_gps_df_dist.lon, \n",
    "    plot_args, \n",
    "    color=clustered_gps_df_dist.user_id.apply(lambda x: x[:4]), \n",
    "    ranges=([42, 52], [-5, 15]), \n",
    "    img_name='user_cluster.png'\n",
    ")"
   ]
  },
  {
   "cell_type": "markdown",
   "id": "95afe801-0f3b-43c8-9fe2-0d824d402da8",
   "metadata": {},
   "source": [
    "# 5 - Display the location prediction in a map view with the GPS coordinate"
   ]
  },
  {
   "cell_type": "code",
   "execution_count": null,
   "id": "7df5eea7-9862-4bec-982a-00f83b905cc0",
   "metadata": {},
   "outputs": [],
   "source": [
    "# Get our data \n",
    "gps_df = pkl.load(open('./data/gps_df.pkl', 'rb'))\n",
    "\n",
    "# Plot the prediction result against the original data using the mean method\n",
    "map_view_prediction(gps_df, prediction_mean)"
   ]
  },
  {
   "cell_type": "code",
   "execution_count": null,
   "id": "fb11c959-830b-4a8a-a956-10a636d4bca3",
   "metadata": {},
   "outputs": [],
   "source": [
    "# Get our filtered dataset and prediction\n",
    "filtered_gps_df = pkl.load(open('./data/filtered_gps_df.pkl', 'rb'))\n",
    "prediction_mean = pkl.load(open('./data/prediction_mean.pkl', 'rb'))\n",
    "\n",
    "# Plot the prediction result against the filtered data using the mean method\n",
    "map_view_prediction(filtered_gps_df, prediction_mean)"
   ]
  },
  {
   "cell_type": "code",
   "execution_count": null,
   "id": "dc93251b-170f-4759-9c9d-24446c090d24",
   "metadata": {
    "tags": []
   },
   "outputs": [],
   "source": [
    "# Get our filtered dataset and prediction\n",
    "filtered_gps_df = pkl.load(open('./data/filtered_gps_df.pkl', 'rb'))\n",
    "prediction_dist = pkl.load(open('./data/prediction_dist.pkl', 'rb'))\n",
    "\n",
    "# Plot the prediction result against the filtered data using the dist method\n",
    "map_view_prediction(filtered_gps_df, prediction_dist, 'map_prediction.png')"
   ]
  },
  {
   "cell_type": "markdown",
   "id": "1a875ee9-c479-4ce3-af7e-3fb7e8acf9a6",
   "metadata": {},
   "source": [
    "<font size=\"3\">\n",
    "    <b>Note 1</b> : According to the graph, the 'dist' method to predict the living location of a user gives better result. The point are more center on the location, thus the longitute and latitude are more precise.\n",
    "    <br>\n",
    "    <b>Note 2</b> : We also see that for some user the prediction could be wrong, for example for user 38b9, the living prediction give a veterinary clinic\n",
    "</font>"
   ]
  },
  {
   "cell_type": "markdown",
   "id": "6e5be14e-6800-4fcf-ae9a-23e134f18a6c",
   "metadata": {},
   "source": [
    "# 6 - Get the living adress of the users"
   ]
  },
  {
   "cell_type": "code",
   "execution_count": null,
   "id": "83a2936f-9d55-49ea-8dd9-3a68d2c10100",
   "metadata": {},
   "outputs": [],
   "source": [
    "# Get our prediction\n",
    "prediction_dist = pkl.load(open('./data/prediction_dist.pkl', 'rb'))\n",
    "\n",
    "# We can now get the adress of the living location from the GPS coordinates\n",
    "prediction = get_adress_from_coordinates(prediction_dist)\n",
    "prediction"
   ]
  },
  {
   "cell_type": "code",
   "execution_count": null,
   "id": "ca3b10c9-8d45-4894-a6ae-6ae234787139",
   "metadata": {},
   "outputs": [],
   "source": []
  }
 ],
 "metadata": {
  "kernelspec": {
   "display_name": "Python 3",
   "language": "python",
   "name": "python3"
  },
  "language_info": {
   "codemirror_mode": {
    "name": "ipython",
    "version": 3
   },
   "file_extension": ".py",
   "mimetype": "text/x-python",
   "name": "python",
   "nbconvert_exporter": "python",
   "pygments_lexer": "ipython3",
   "version": "3.9.7"
  }
 },
 "nbformat": 4,
 "nbformat_minor": 5
}
