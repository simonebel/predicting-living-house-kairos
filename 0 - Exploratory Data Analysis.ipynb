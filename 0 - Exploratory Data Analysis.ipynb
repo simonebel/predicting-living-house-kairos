{
 "cells": [
  {
   "cell_type": "markdown",
   "id": "3e9f865d-ee9e-4702-8494-e473fe64af66",
   "metadata": {},
   "source": [
    "# 0 - Import"
   ]
  },
  {
   "cell_type": "code",
   "execution_count": null,
   "id": "2d36a400-a796-4e58-9562-c49e1ab36a32",
   "metadata": {},
   "outputs": [],
   "source": [
    "# Basic\n",
    "import pickle as pkl\n",
    "\n",
    "# Data\n",
    "import pandas as pd\n",
    "import numpy as np\n",
    "\n",
    "# Geospatial \n",
    "from sklearn.metrics.pairwise import haversine_distances\n",
    "\n",
    "# Date\n",
    "import calendar\n",
    "from dateutil.parser import parse\n",
    "\n",
    "# Plot\n",
    "from location_prediction.data_visualisation import chart_plot, chart_subplot, map_view\n",
    "import plotly.express as px\n",
    "import plotly.graph_objects as go\n",
    "\n",
    "# Model\n",
    "from location_prediction.model import generate_distance_travelled\n",
    "\n",
    "# Prevent plotly to lag on scroll when there is a lot of graph displayed\n",
    "import plotly.io as pio\n",
    "pio.renderers.default = 'iframe'"
   ]
  },
  {
   "cell_type": "markdown",
   "id": "8c10e43d-5ab1-4a07-9a47-03f338469348",
   "metadata": {},
   "source": [
    "# 1 - Preparing the dataset"
   ]
  },
  {
   "cell_type": "code",
   "execution_count": null,
   "id": "bef91ea2-7f9b-4d4c-9115-74982d187e74",
   "metadata": {
    "scrolled": true,
    "tags": []
   },
   "outputs": [],
   "source": [
    "# Reading the data\n",
    "df = pd.read_excel('./data/data_test_datascience.xlsx', header=None)\n",
    "df = df.rename({0:'user_id', 1:'lon', 2:'lat', 3:'timestamp_client'}, axis = 1)\n",
    "df"
   ]
  },
  {
   "cell_type": "markdown",
   "id": "b759322d-d113-444a-a6d2-0fa0f2a7e551",
   "metadata": {},
   "source": [
    "## 1.1 - Timestamp"
   ]
  },
  {
   "cell_type": "code",
   "execution_count": null,
   "id": "f59d0bbc-910a-4b7a-93be-9f7531231eb3",
   "metadata": {
    "scrolled": true,
    "tags": []
   },
   "outputs": [],
   "source": [
    "# Check for type of timestamp values\n",
    "df['timestamp_client']"
   ]
  },
  {
   "cell_type": "markdown",
   "id": "712a66c2-f251-4b6b-8f29-21604c1cbf7f",
   "metadata": {},
   "source": [
    "**Note** : Timestamp are stored as string"
   ]
  },
  {
   "cell_type": "code",
   "execution_count": null,
   "id": "8dcfe7b0-6b6c-496f-80fb-79067a1eb3be",
   "metadata": {},
   "outputs": [],
   "source": [
    "# Convert the timestamp in datetime object\n",
    "df['timestamp_client'] = df['timestamp_client'].apply(parse)"
   ]
  },
  {
   "cell_type": "markdown",
   "id": "6b9521e7-5f60-49c0-ae31-75b5b0005dc3",
   "metadata": {},
   "source": [
    "## 1.2 - Data Cleaning"
   ]
  },
  {
   "cell_type": "code",
   "execution_count": null,
   "id": "16d0cb2d-3d16-471b-80a1-3799906a779b",
   "metadata": {},
   "outputs": [],
   "source": [
    "# Check for duplicates values\n",
    "print('We have {} duplicates in the dataset \\n'.format(len(df[df.duplicated()])))\n",
    "\n",
    "# Remove duplicates\n",
    "df = df.drop_duplicates()\n",
    "\n",
    "# Check for missing values\n",
    "for col in df.columns : \n",
    "    print('We have {} missing values for the features {} in the dataset'.format(len(df[pd.isnull(df[col])]), col))\n"
   ]
  },
  {
   "cell_type": "markdown",
   "id": "249b4edf-340c-4833-91d1-2084e9c566cf",
   "metadata": {},
   "source": [
    "## 1.3 - Sorting (user_id, timestamp)"
   ]
  },
  {
   "cell_type": "code",
   "execution_count": null,
   "id": "8216478e-9099-41e3-a06b-9d83010b91a7",
   "metadata": {},
   "outputs": [],
   "source": [
    "# Sort the dataset by user id and time\n",
    "df = df.sort_values(['user_id', 'timestamp_client'])"
   ]
  },
  {
   "cell_type": "code",
   "execution_count": null,
   "id": "9613bd21-6d23-48b4-894f-27bae3f38e88",
   "metadata": {},
   "outputs": [],
   "source": [
    "# We dump the dataset to quicker read and write \n",
    "pkl.dump(df, open('./data/gps_df.pkl', 'wb'))"
   ]
  },
  {
   "cell_type": "markdown",
   "id": "5d35ecf8-48fd-44b5-ace4-8afb01efdb0f",
   "metadata": {},
   "source": [
    "# 2 - Exploratory Data Analysis"
   ]
  },
  {
   "cell_type": "markdown",
   "id": "17f436f4-e593-4ce6-bb81-efd87545247d",
   "metadata": {},
   "source": [
    "## 2.1 - Samples"
   ]
  },
  {
   "cell_type": "code",
   "execution_count": null,
   "id": "1007a5d3-1ba7-439a-b7fd-4efffe88b44a",
   "metadata": {},
   "outputs": [],
   "source": [
    "# Load our clean dataset\n",
    "gps_df = pkl.load(open('./data/gps_df.pkl', 'rb'))\n",
    "\n",
    "# Display the number of samples in the dataset\n",
    "print('We have {} samples in the dataset'.format(len(gps_df)))"
   ]
  },
  {
   "cell_type": "markdown",
   "id": "4e7736cf-c808-41c7-8b92-22d075ca7828",
   "metadata": {},
   "source": [
    "## 2.2 - Users"
   ]
  },
  {
   "cell_type": "code",
   "execution_count": null,
   "id": "24e14e6a-3da9-4286-9ec4-78b05052aca4",
   "metadata": {},
   "outputs": [],
   "source": [
    "# Display the number of users in the dataset\n",
    "print('We have {} different users in the dataset '.format(len(gps_df['user_id'].unique())))"
   ]
  },
  {
   "cell_type": "code",
   "execution_count": null,
   "id": "dafb6033-3638-4cc1-86f1-b7ad15a4113d",
   "metadata": {
    "tags": []
   },
   "outputs": [],
   "source": [
    "# Display the numbers of sample per user\n",
    "count = gps_df.groupby(['user_id']).count()\n",
    "short_user_id = [user[:4]+'...' for user in count.index]\n",
    "timestamp = count.timestamp_client\n",
    "\n",
    "# Argument for ploting the distribution of sample per user\n",
    "plot_args = {\n",
    "    'title': 'Distribution of samples per user',\n",
    "    'title_x': 0.5,\n",
    "    'width': 1400,\n",
    "    'height': 600,\n",
    "    'xaxis_title' : 'User id',\n",
    "    'yaxis_title' : 'Number of sample',\n",
    "    'showlegend':False,\n",
    "}\n",
    "\n",
    "# Our custom function to plot the distribution of sample per user\n",
    "chart_plot(\n",
    "    graph = px.bar, \n",
    "    dataframe = count, \n",
    "    x = short_user_id, \n",
    "    y = timestamp, \n",
    "    plot_args = plot_args, \n",
    "    color = count.index, \n",
    "    img_name = 'sample_per_user.png')"
   ]
  },
  {
   "cell_type": "code",
   "execution_count": null,
   "id": "6eb58e72-3488-40dd-a2aa-3ccd61115656",
   "metadata": {},
   "outputs": [],
   "source": [
    "# Print descriptive statistics of the distribution of sample per user\n",
    "print('Sample per user means is : {} \\n'.format(count.mean().values[0]))\n",
    "print('Sample per user median is : {} \\n'.format(count.median().values[0]))\n",
    "print('Sample per user standard deviation is : {} \\n'.format(count.std().values[0]))\n",
    "print('Sample per user max is : {} \\n'.format(count.max().values[0]))\n",
    "print('Sample per user min is : {} \\n'.format(count.min().values[0]))"
   ]
  },
  {
   "cell_type": "markdown",
   "id": "7ce51d28-d284-4e78-aff6-72d09b006dfe",
   "metadata": {},
   "source": [
    "## 2.3 - Date"
   ]
  },
  {
   "cell_type": "code",
   "execution_count": null,
   "id": "9fb4a5c6-03e2-4487-862d-a7b99c940b4a",
   "metadata": {},
   "outputs": [],
   "source": [
    "# Basic information on tracking period\n",
    "print('Less recent date : {} \\n'.format(gps_df['timestamp_client'].min()))\n",
    "print('Most recent date : {}\\n'.format(gps_df['timestamp_client'].max()))\n",
    "print('Tracking Period : {}'.format(gps_df['timestamp_client'].max() - gps_df['timestamp_client'].min()))"
   ]
  },
  {
   "cell_type": "markdown",
   "id": "2bed223c-15cd-4daa-9feb-16ba2f6e416f",
   "metadata": {},
   "source": [
    "### 2.3.1 - Sample per month"
   ]
  },
  {
   "cell_type": "code",
   "execution_count": null,
   "id": "7f8892d6-fc10-4f64-830b-2391dc04317e",
   "metadata": {
    "tags": []
   },
   "outputs": [],
   "source": [
    "# Display the number of samples per month \n",
    "sample_per_month = gps_df.groupby([pd.Grouper(key='timestamp_client',freq='M')]).count()\n",
    "\n",
    "# Argument for ploting the distribution of samples per month \n",
    "plot_args = {\n",
    "    'title': 'Number of samples per month',\n",
    "    'title_x': 0.5,\n",
    "    'width': 1450,\n",
    "    'height': 600,\n",
    "    'xaxis_title' : 'Month',\n",
    "    'yaxis_title' : 'Number of sample'\n",
    "}\n",
    "\n",
    "# Our custom function to plot the distribution of samples per month\n",
    "chart_plot(\n",
    "    graph = px.bar, \n",
    "    dataframe = sample_per_month, \n",
    "    x = sample_per_month.index, \n",
    "    y = sample_per_month.lon, \n",
    "    plot_args = plot_args,  \n",
    "    img_name = 'sample_per_month.png'\n",
    ")"
   ]
  },
  {
   "cell_type": "markdown",
   "id": "6e84f398-dd36-44e9-8932-b70477265f21",
   "metadata": {},
   "source": [
    "### 2.3.2 Sample per day"
   ]
  },
  {
   "cell_type": "code",
   "execution_count": null,
   "id": "3956f4cc-9c15-4e59-981c-c36513fe15b5",
   "metadata": {},
   "outputs": [],
   "source": [
    "# Display the number of samples per day \n",
    "sample_per_day = gps_df.groupby([pd.Grouper(key='timestamp_client',freq='D')]).count()\n",
    "\n",
    "# Argument for ploting the distribution of samples per day \n",
    "plot_args = {\n",
    "    'title': 'Number of samples per day',\n",
    "    'title_x': 0.5,\n",
    "    'width': 1400,\n",
    "    'height': 600,\n",
    "    'xaxis_title' : 'Day',\n",
    "    'yaxis_title' : 'Number of sample'\n",
    "}\n",
    "\n",
    "# Our custom function to plot the distribution of samples per day\n",
    "chart_plot(\n",
    "    graph = px.bar, \n",
    "    dataframe = sample_per_day, \n",
    "    x = sample_per_day.index, \n",
    "    y = sample_per_day.lon, \n",
    "    plot_args = plot_args,  \n",
    "    img_name = 'sample_per_day.png'\n",
    ")"
   ]
  },
  {
   "cell_type": "markdown",
   "id": "ad2cd1c4-b0bf-49e7-8055-2faaca6eab27",
   "metadata": {},
   "source": [
    "### 2.3.3 Sample per week day"
   ]
  },
  {
   "cell_type": "code",
   "execution_count": null,
   "id": "efa95bb1-22cf-46fe-b7af-dee9ecefb7d1",
   "metadata": {
    "scrolled": true,
    "tags": []
   },
   "outputs": [],
   "source": [
    "# Display the distribution of sample among days for each user\n",
    "def generate_sample_per_day(dataframe, unique_id):\n",
    "    \"\"\"\n",
    "    This function is used to generate the number of samples per week day. \n",
    "    \n",
    "    Args : \n",
    "        dataframe (pandas.Dataframe):\n",
    "            The dataframe containing the GPS coordinates of all the users\n",
    "            \n",
    "        unique_id (string):\n",
    "            The unique id of a user\n",
    "            \n",
    "    Returns : \n",
    "        sample_per_day.index (pandas.Series):\n",
    "            A series containing the week day\n",
    "            \n",
    "        sample_per_day.timestamp_client (pandas.Series):\n",
    "            A series containing number of records\n",
    "    \"\"\"\n",
    "    \n",
    "    user_df = dataframe.copy()[dataframe.user_id == unique_id]\n",
    "    days = [ 'Monday', 'Tuesday', 'Wednesday', 'Thursday', 'Friday', 'Saturday', 'Sunday']\n",
    "    user_df.loc[:,'day'] = user_df.copy().timestamp_client.apply(lambda x : calendar.day_name[x.day_of_week])\n",
    "    sample_per_day = user_df.groupby('day').count()\n",
    "    sample_per_day = sample_per_day.reindex(days)\n",
    "    \n",
    "    return sample_per_day.index, sample_per_day.timestamp_client\n",
    "\n",
    "# Argument for ploting the distribution of sample among days for each user\n",
    "plot_args = {\n",
    "    'width':1400, \n",
    "    'height':1000, \n",
    "    'title_text':'Distribution of sample among days for each user',\n",
    "    'title_x': 0.5,\n",
    "    'x_title': 'Day',\n",
    "    'y_title': 'Number of sample'\n",
    "}\n",
    "\n",
    "# Our custom function to plot the distribution of sample among days for each user\n",
    "chart_subplot(\n",
    "    go.Bar, \n",
    "    gps_df, \n",
    "    generate_data = generate_sample_per_day, \n",
    "    plot_args = plot_args, \n",
    "    n_columns= 3, \n",
    "    img_name = 'sample_per_week_day.png'\n",
    ")"
   ]
  },
  {
   "cell_type": "markdown",
   "id": "f15c11ca-cc54-4f5e-8035-a15912c5dff1",
   "metadata": {},
   "source": [
    "### 2.3.4 - Time Elapse between two consecutive measure"
   ]
  },
  {
   "cell_type": "code",
   "execution_count": null,
   "id": "6363c218-6d77-4812-81dc-0e4f91050f75",
   "metadata": {
    "scrolled": true,
    "tags": []
   },
   "outputs": [],
   "source": [
    "# Display the distribution of the time elapsed between two consecutive measure for each user\n",
    "def generate_time_elapse(dataframe, unique_id):\n",
    "    \"\"\"\n",
    "    This function is used to generate the time elased between two measures for each user. \n",
    "    \n",
    "    Args : \n",
    "        dataframe (pandas.Dataframe):\n",
    "            The dataframe containing the GPS coordinates of all the users\n",
    "            \n",
    "        unique_id (string):\n",
    "            The unique id of a user\n",
    "            \n",
    "    Returns : \n",
    "        user_df.timestamp_client (pandas.Series):\n",
    "            A series containing the timestamp of the user\n",
    "            \n",
    "        elapsed_time (pandas.Series):\n",
    "            A series containing the time elapsed\n",
    "    \"\"\"\n",
    "    \n",
    "    user_df = dataframe[dataframe.user_id == unique_id]\n",
    "    elapsed_time = user_df.timestamp_client.diff()\n",
    "    \n",
    "    return user_df.timestamp_client, elapsed_time\n",
    "\n",
    "# Argument for ploting the distribution of the time elapsed between two consecutive measure for each user\n",
    "plot_args = {\n",
    "    'width':1400, \n",
    "    'height':1000, \n",
    "    'title_text': 'Distribtuion of the time elapsed between two measure',\n",
    "    'title_x': 0.5,\n",
    "    'x_title': 'Timestamp',\n",
    "    'y_title': 'Time Elapsed (s)'\n",
    "}\n",
    "\n",
    "# Our custom function to plot the distribution of the time elapsed between two consecutive measure for each user\n",
    "chart_subplot(\n",
    "    go.Scatter, \n",
    "    gps_df, \n",
    "    generate_data = generate_time_elapse, \n",
    "    plot_args = plot_args, \n",
    "    n_columns= 3, \n",
    "    img_name = 'time_elapse.png'\n",
    ")"
   ]
  },
  {
   "cell_type": "markdown",
   "id": "98fdbf94-34a0-496d-ab70-af7db265fff5",
   "metadata": {},
   "source": [
    "## 2.4 - GPS Coordinates"
   ]
  },
  {
   "cell_type": "markdown",
   "id": "18fcd7a6-af4b-4e4b-8ed3-500765a2382c",
   "metadata": {},
   "source": [
    "### 2.4.1 - GPS overview"
   ]
  },
  {
   "cell_type": "code",
   "execution_count": null,
   "id": "83d9f2d2-2697-4216-8026-a231485dfd6f",
   "metadata": {
    "scrolled": true,
    "tags": []
   },
   "outputs": [],
   "source": [
    "# Argument for ploting the GPS coordinates\n",
    "plot_args = {\n",
    "    'title': 'Overview of GPS coordinates group by user',\n",
    "    'title_x': 0.5,\n",
    "    'width': 1400,\n",
    "    'height': 600,\n",
    "    'xaxis_title' : 'Longitude',\n",
    "    'yaxis_title' : 'Latitude'\n",
    "}\n",
    "\n",
    "# Our custom function to plot the GPS coordinates\n",
    "chart_plot(\n",
    "    graph = px.scatter, \n",
    "    dataframe = gps_df, \n",
    "    x = gps_df.lon, \n",
    "    y = gps_df.lat, \n",
    "    plot_args = plot_args,  \n",
    "    color = gps_df.user_id.apply(lambda x : x[:4]),\n",
    "    img_name = 'gps_data.png'\n",
    ")\n",
    "\n",
    "# Our custom function to plot the GPS coordinates focus on a dense zone\n",
    "chart_plot(\n",
    "    graph = px.scatter, \n",
    "    dataframe = gps_df, \n",
    "    x = gps_df.lon, \n",
    "    y = gps_df.lat, \n",
    "    plot_args = plot_args,  \n",
    "    color = gps_df.user_id.apply(lambda x : x[:4]),\n",
    "    ranges = ([-10, 10], [60, 40]),\n",
    "    img_name = 'gps_data_zoom.png'\n",
    ")"
   ]
  },
  {
   "cell_type": "markdown",
   "id": "e14ce4f5-2d72-4d2d-b377-e0febcc770fe",
   "metadata": {},
   "source": [
    "### 2.4.2 - GPS coordinates per user"
   ]
  },
  {
   "cell_type": "code",
   "execution_count": null,
   "id": "f60b4005-ca06-4cfb-8dec-10047de9e51e",
   "metadata": {
    "scrolled": true,
    "tags": []
   },
   "outputs": [],
   "source": [
    "# Display the distribution of the distance travelled between two consecutive measure\n",
    "def generate_user_coordinate(dataframe, unique_id) : \n",
    "    \"\"\"\n",
    "    This function is used to generate the distance travelled between two measures for each user. \n",
    "    \n",
    "    Args : \n",
    "        dataframe (pandas.Dataframe):\n",
    "            The dataframe containing the GPS coordinates of all the users\n",
    "            \n",
    "        unique_id (string):\n",
    "            The unique id of a user\n",
    "            \n",
    "    Returns : \n",
    "        user_df.lon (pandas.Series):\n",
    "            A series containing the longitude of the user\n",
    "            \n",
    "        user_df.lat (pandas.Series):\n",
    "            A series containing the latitude of the user\n",
    "    \"\"\"\n",
    "    \n",
    "    user_df = dataframe[dataframe.user_id == unique_id]\n",
    "    return user_df.lon, user_df.lat\n",
    "\n",
    "\n",
    "# Argument for ploting the GPS coordinates\n",
    "plot_args = {\n",
    "    'width':1400, \n",
    "    'height':1000, \n",
    "    'title_text': 'Visualization of GPS coordinates per user',\n",
    "    'title_x': 0.5,\n",
    "    'x_title': 'Longitude',\n",
    "    'y_title': 'Latitude'  \n",
    "}\n",
    "\n",
    "# Our custom function to plot the GPS coordinates focus on a dense zone\n",
    "chart_subplot(\n",
    "    graph = go.Scatter, \n",
    "    dataframe = gps_df, \n",
    "    generate_data = generate_user_coordinate, \n",
    "    n_columns = 3, \n",
    "    plot_args = plot_args, \n",
    "    img_name = 'gps_per_user.png')"
   ]
  },
  {
   "cell_type": "markdown",
   "id": "148664df-7c37-42b9-87a7-5b1591e52e77",
   "metadata": {},
   "source": [
    "### 2.4.3 - Distance travelled"
   ]
  },
  {
   "cell_type": "code",
   "execution_count": null,
   "id": "94938cdf-4077-4161-8374-e8676380602c",
   "metadata": {
    "scrolled": true,
    "tags": []
   },
   "outputs": [],
   "source": [
    "# Display the distribution of the distance travelled between two points\n",
    "def generate_user_distance_travelled(dataframe, unique_id) : \n",
    "    \"\"\"\n",
    "    This function is used to generate the distance travelled between two measures for each user. \n",
    "    \n",
    "    Args : \n",
    "        dataframe (pandas.Dataframe):\n",
    "            The dataframe containing the GPS coordinates of all the users\n",
    "            \n",
    "        unique_id (string):\n",
    "            The unique id of a user\n",
    "            \n",
    "    Returns : \n",
    "        user_df.timestamp_client (pandas.Series) : \n",
    "            A series containing the timestamp of the user\n",
    "            \n",
    "        user_df.distance_travelled (pandas.Series):\n",
    "            A series containing the distance travelled of the user\n",
    "    \"\"\"\n",
    "    \n",
    "    user_df = dataframe.copy()[dataframe.user_id == unique_id]    \n",
    "    user_gps_coordinate = user_df[['lat', 'lon']].to_numpy()\n",
    "    user_gps_coordinate_rad = np.radians(user_gps_coordinate)\n",
    "\n",
    "    distance_travelled = np.array([haversine_distances([user_gps_coordinate_rad[i-1], user_gps_coordinate_rad[i]]) for i in range(1, len(user_gps_coordinate_rad))])\n",
    "    distance_travelled = distance_travelled[:, 1][:, 0] * 6371\n",
    "    distance_travelled = np.insert(distance_travelled, 0, 0.0)\n",
    "    \n",
    "    user_df.loc[:, 'distance_travelled'] = distance_travelled\n",
    "    \n",
    "    return user_df.timestamp_client, user_df.distance_travelled\n",
    "\n",
    "\n",
    "# Argument for ploting the distance travelled between two points\n",
    "plot_args = {\n",
    "    'width':1400, \n",
    "    'height':1000, \n",
    "    'title_text': 'Distribution of distance travelled between two points',\n",
    "    'title_x': 0.5,\n",
    "    'x_title': 'Timestamp',\n",
    "    'y_title': 'Distance Travelled (km)'\n",
    "}\n",
    "\n",
    "# Our custom function to plot the distance travelled between two points\n",
    "chart_subplot(\n",
    "    graph = go.Scatter, \n",
    "    dataframe = gps_df, \n",
    "    generate_data = generate_user_distance_travelled, \n",
    "    n_columns = 3, \n",
    "    plot_args = plot_args, \n",
    "    img_name = 'distance_travelled.png')"
   ]
  },
  {
   "cell_type": "code",
   "execution_count": null,
   "id": "e4670aa8-c0bb-4c48-b91c-19bc760d51c2",
   "metadata": {},
   "outputs": [],
   "source": [
    "# Descriptive Statistics on distance travelled\n",
    "gps_df = generate_distance_travelled(df)\n",
    "distance_travelled = gps_df['distance_travelled']\n",
    "\n",
    "print('Distance travelled mean : {} km'.format(gps_df.distance_travelled.mean()))\n",
    "print('Distance travelled median : {} km'.format(gps_df.distance_travelled.median()))\n",
    "print('Distance travelled standard deviation : {} km'.format(gps_df.distance_travelled.std()))"
   ]
  },
  {
   "cell_type": "markdown",
   "id": "0ca1c111-ec45-4b0f-87ee-7848803a8ae4",
   "metadata": {},
   "source": [
    "## 2.5 - Map view"
   ]
  },
  {
   "cell_type": "code",
   "execution_count": null,
   "id": "bf186435-5063-4687-8a3f-334aa1081f6c",
   "metadata": {},
   "outputs": [],
   "source": [
    "# Plot a map view of the GPS coordinates of each user \n",
    "map_view(gps_df, 'map_view.png')"
   ]
  }
 ],
 "metadata": {
  "kernelspec": {
   "display_name": "Python 3",
   "language": "python",
   "name": "python3"
  },
  "language_info": {
   "codemirror_mode": {
    "name": "ipython",
    "version": 3
   },
   "file_extension": ".py",
   "mimetype": "text/x-python",
   "name": "python",
   "nbconvert_exporter": "python",
   "pygments_lexer": "ipython3",
   "version": "3.9.7"
  }
 },
 "nbformat": 4,
 "nbformat_minor": 5
}
